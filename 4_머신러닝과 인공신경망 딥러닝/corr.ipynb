{
 "cells": [
  {
   "cell_type": "code",
   "execution_count": null,
   "metadata": {},
   "outputs": [],
   "source": [
    "import pandas as pd\n",
    "data = pd.read_csv('')\n",
    "\n",
    "data.head()\n",
    "data.corr()\n",
    "\n",
    "%matplotlib inline\n",
    "import matplotlib.pyplot as plt\n",
    "import seaborn as sns\n",
    "\n",
    "plt.figure(figsize=(15,15)) # 15*15 사이즈 표\n",
    "sns.heatmap(data = data.corrr(), annot=True, \n",
    "            fmt = '.2f', linewidths=.5, camp='blues') # seaborn의 히트맵 그래프, 셀값 표시, 셀값 포맷\n"
   ]
  }
 ],
 "metadata": {
  "language_info": {
   "name": "python"
  },
  "toc": {
   "base_numbering": 1,
   "nav_menu": {},
   "number_sections": true,
   "sideBar": true,
   "skip_h1_title": false,
   "title_cell": "Table of Contents",
   "title_sidebar": "Contents",
   "toc_cell": false,
   "toc_position": {},
   "toc_section_display": true,
   "toc_window_display": false
  }
 },
 "nbformat": 4,
 "nbformat_minor": 2
}
