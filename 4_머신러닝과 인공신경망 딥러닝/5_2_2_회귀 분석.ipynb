{
 "cells": [
  {
   "cell_type": "markdown",
   "metadata": {},
   "source": [
    "## 다중공선성(colinearity)\n",
    ">https://mindscale.kr/course/basic-stat-python/13/  \n",
    "- 공선성 : 하나의 독립변수가 다른 하나의 독립변수로 잘 예측되는 경우, 또는 서로 상관이 높은 경우\n",
    "- 다중공선성 : 하나의 독립변수가 다른 여러개의 독립변수들로 잘 예측되는 경우\n",
    "  - 계수 추정이 잘 되지 않거나 불안정해져서 데이터가 약간만 바뀌어도 추정치가 크게 달라질 수 있다.\n",
    "  - 계수가 통계적으로 유의미하지 않은 것처럼 나올 수 있다."
   ]
  },
  {
   "cell_type": "code",
   "execution_count": null,
   "metadata": {},
   "outputs": [],
   "source": [
    "# 다중공선성의 진단 --> 'Variance Inflation Factor' 구하여 판단\n",
    "# 회귀 분석\n",
    "from statsmodels.formula.api import ols\n",
    "# 모형 '종속 변수 ~ 독립변수'\n",
    "model = ols('y~sat + weight + width', df)\n",
    "# 모형 적합\n",
    "res = model.fit()\n",
    "# 결과 확인\n",
    "res.summary()"
   ]
  },
  {
   "cell_type": "markdown",
   "metadata": {},
   "source": [
    "##  모형 적합도\n",
    "- `R-squared` \n",
    "  - R제곱\n",
    "  - 모형 적합도\n",
    "  - 종속변수의 분산을 독립변수가 약 00% 설명한다.\n",
    "\n",
    "-  `Adj.R-squared`\n",
    "  - 독립변수가 여러개인 다중회귀분석에서 사용\n",
    "  - 독립변수의 개수와 표본의 크기를 고려하여 R-squared 보정\n",
    "  - 서로 다른 모형을 비교할 떄는 이 지표가 높은 쪽을 선택한다\n",
    "\n",
    "- `F-statistic`\n",
    "  - 회귀 모형에 대한 (통계적) 유의미성 검증 결과 (p<0.05, 이 모형은 주어진 표본 뿐 아니라 모집단에서도 의미있는 모형이라 할 수 있다.)\n",
    "\n",
    "- `Log-Likelihood`\n",
    "  - 종속변수가 정규분포라 가정했을 때의 우도\n",
    "  - 로그우도도 R제곱과 마찬가지로 독립변수가 많아지면 증가\n",
    "  - AIC, BIC: 로그우도를 독립변수의 수로 보정한 값 (작을 수록 좋다.)"
   ]
  }
 ],
 "metadata": {
  "interpreter": {
   "hash": "5c4dff50a37adf0ed63c4cb72c000f9a9f2485f2cc43703d717f6c1a109592c1"
  },
  "kernelspec": {
   "display_name": "Python 3.9.6 ('venv': venv)",
   "language": "python",
   "name": "python3"
  },
  "language_info": {
   "codemirror_mode": {
    "name": "ipython",
    "version": 3
   },
   "file_extension": ".py",
   "mimetype": "text/x-python",
   "name": "python",
   "nbconvert_exporter": "python",
   "pygments_lexer": "ipython3",
   "version": "3.9.6"
  },
  "orig_nbformat": 4
 },
 "nbformat": 4,
 "nbformat_minor": 2
}
