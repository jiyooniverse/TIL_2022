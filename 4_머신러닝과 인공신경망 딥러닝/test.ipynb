{
 "cells": [
  {
   "cell_type": "code",
   "execution_count": 2,
   "metadata": {},
   "outputs": [],
   "source": [
    "a = [1, 2, 3]"
   ]
  },
  {
   "cell_type": "code",
   "execution_count": 5,
   "metadata": {},
   "outputs": [],
   "source": [
    "from igraph import *\n",
    " \n",
    "# print(igraph.__version__)\n",
    "g = Graph() # 무방향 그래프 생성\n",
    "g.add_vertices(3) # 주어진 수의 node 추가\n",
    "g.add_edges([(0,1), (1,2)]) # edge 추가"
   ]
  }
 ],
 "metadata": {
  "interpreter": {
   "hash": "5c4dff50a37adf0ed63c4cb72c000f9a9f2485f2cc43703d717f6c1a109592c1"
  },
  "kernelspec": {
   "display_name": "Python 3.9.6 ('venv': venv)",
   "language": "python",
   "name": "python3"
  },
  "language_info": {
   "codemirror_mode": {
    "name": "ipython",
    "version": 3
   },
   "file_extension": ".py",
   "mimetype": "text/x-python",
   "name": "python",
   "nbconvert_exporter": "python",
   "pygments_lexer": "ipython3",
   "version": "3.9.6"
  },
  "orig_nbformat": 4
 },
 "nbformat": 4,
 "nbformat_minor": 2
}
